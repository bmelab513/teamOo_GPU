{
 "cells": [
  {
   "cell_type": "markdown",
   "metadata": {},
   "source": [
    "# **RESULT ON DIABETIC RETINOAPTHY DETECTION**"
   ]
  },
  {
   "cell_type": "markdown",
   "metadata": {},
   "source": [
    "The training process follows teamOo's solution and ~35000 images from trainset provided by Kaggle are trained using the net A's configuration (5x5 and 3x3 filters). The validation is done on 10% of the training images, which is roughly 3500 images.\n",
    "\n",
    "## **Metrics**\n",
    "To fully evaluate the performance of the model, several metrics will be employed including Precision, Recall (Sensitivity), Specificity, Accuracy and Kappa\n",
    "### **I. Binary case**\n",
    "![alt text](binary_cf.png \"Binary Confusion Matrix\")\n",
    "#### **1. Precision**\n",
    "In the binary case, the precision is calculated as:\n",
    "$$\\frac{TP}{TP+FP}$$\n",
    "\n",
    "**Interpretation**: Of all patients predicted with positive result, how many of them actually have the disease\n",
    "\n",
    "#### **2. Recall or Sensitivity**\n",
    "Recall or sensitivity is alike, and can be calculated as:\n",
    "$$\\frac{TP}{TP+FN}$$\n",
    "\n",
    "**Interpretation**: Of all patients having positive result, how many of them actually are predicted accurately with the disease\n",
    "#### **3. Specificty**\n",
    "Specificity is calculated as:\n",
    "$$\\frac{TN}{TN+FP}$$\n",
    "\n",
    "**Interpretation**: Of all patients having negative result, how many of them actually are predicted accurately with negative result\n",
    "\n",
    "#### **4. Accuracy**\n",
    "Accuracy is calculated as:\n",
    "$$\\frac{TP+TN}{TP+TN+FP+FN}$$\n",
    "\n",
    "**Interpretation**: Of all the patients, how many of them are predicted accurately with and wihout a disease\n",
    "\n",
    "#### **5. Kappa score**\n",
    "(!) Description will be provided later\n",
    "$$\\frac{p_0-p_e}{1-p_e}$$\n",
    "\n",
    "where: \n",
    "    $p_0$: observed accuracy\n",
    "    $p_e$: expected accuracy\n",
    "\n",
    "**Interpretation** (relatively depending on the case)\n",
    "<br> 0.00–0.20 as slight\n",
    "<br> 0.21–0.40 as fair\n",
    "<br> 0.41–0.60 as moderate \n",
    "<br> 0.61–0.80 as substantial\n",
    "<br>0.81–1 as almost perfect agreement. \n",
    "\n",
    "### **II. Muticlass case**\n",
    "![alt text](multiclass_cf.png \"Multiclass Confusion Matrix\")\n",
    "\n",
    "**Convention in multiclass confusion matrix**\n",
    "<br>**TP**: the predicted and actual class match (the diagonal)\n",
    "<br>**FP**: sum of values in the row with exception from the TP of each class\n",
    "<br>**FN**: sum of values in the column with exception from the TP of each class\n",
    "<br>**TN**: other values, with exception from the row and column of each class\n",
    "\n",
    "#### **1. Precision**\n",
    "\n",
    "**Micro average**\n",
    "$$\\frac{TP_1+TP_2+...+TP_n}{(TP_1+...TP_n)+(FP_1+...+FP_n)}$$\n",
    "\n",
    "**Macro average**\n",
    "$$\\frac{Pr_1+Pr_2+...+Pr_n}{n}$$\n",
    "\n",
    "where $Pr_i$ denotes the precision of each class and there a $n$ classes\n",
    "\n",
    "#### **2. Recall**\n",
    "\n",
    "**Micro average**\n",
    "$$\\frac{TP_1+TP_2+...+TP_n}{(TP_1+...TP_n)+(FN_1+...+FN_n)}$$\n",
    "\n",
    "**Macro average**\n",
    "$$\\frac{Re_1+Re_2+...+Re_n}{n}$$\n",
    "\n",
    "where $Re_i$ denotes the precision of each class and there are $n$ classes\n",
    "\n",
    "#### **3. Specificity**\n",
    "\n",
    "**Micro average**\n",
    "$$\\frac{TN_1+TN_2+...+TN_n}{(TN_1+...TN_n)+(FP_1+...+FP_n)}$$\n",
    "\n",
    "**Macro average**\n",
    "$$\\frac{Specs_1+Specs_2+...+Specs_n}{n}$$\n",
    "\n",
    "where $Specs_i$ denotes the precision of each class and there are $n$ classes\n",
    "\n",
    "For **Accuracy** and **Kappa**, the calculation remains similar \n"
   ]
  },
  {
   "cell_type": "markdown",
   "metadata": {},
   "source": [
    "## **Result**\n",
    "### **1. Result on validation set on net A**\n",
    "Total time training: roughly 2.5 days on Tesla K80 GPU 12Gb"
   ]
  },
  {
   "cell_type": "markdown",
   "metadata": {},
   "source": [
    "**Blending results on training set**"
   ]
  },
  {
   "cell_type": "code",
   "execution_count": 2,
   "metadata": {},
   "outputs": [
    {
     "name": "stdout",
     "output_type": "stream",
     "text": [
      "   Unnamed: 0  accuracy     kappa  precision  specificity\n",
      "0           0  0.825604  0.867003   0.825604     0.956401\n",
      "1           1  0.827471  0.868090   0.827471     0.956868\n",
      "2           2  0.826142  0.867571   0.826142     0.956535\n",
      "3           3  0.825541  0.867685   0.825541     0.956385\n",
      "4           4  0.825446  0.867032   0.825446     0.956362\n",
      "5           5  0.825636  0.866820   0.825636     0.956409\n",
      "6           6  0.826522  0.867476   0.826522     0.956630\n",
      "7           7  0.826870  0.867405   0.826870     0.956717\n",
      "8           8  0.827186  0.867620   0.827186     0.956796\n",
      "9           9  0.827312  0.867588   0.827312     0.956828\n"
     ]
    }
   ],
   "source": [
    "import pandas as pd\n",
    "train_result = pd.read_csv('skip50_train_result.csv')\n",
    "print(train_result)"
   ]
  },
  {
   "cell_type": "markdown",
   "metadata": {},
   "source": [
    "**Blending results on validation set**"
   ]
  },
  {
   "cell_type": "code",
   "execution_count": 3,
   "metadata": {},
   "outputs": [
    {
     "name": "stdout",
     "output_type": "stream",
     "text": [
      "   Unnamed: 0  accuracy     kappa  precision  specificity\n",
      "0           0  0.806488  0.837301   0.806488     0.951622\n",
      "1           1  0.806488  0.837344   0.806488     0.951622\n",
      "2           2  0.805635  0.837750   0.805635     0.951409\n",
      "3           3  0.803927  0.838657   0.803927     0.950982\n",
      "4           4  0.805919  0.838587   0.805919     0.951480\n",
      "5           5  0.804212  0.837814   0.804212     0.951053\n",
      "6           6  0.805065  0.838284   0.805065     0.951266\n",
      "7           7  0.806204  0.837806   0.806204     0.951551\n",
      "8           8  0.807057  0.838278   0.807057     0.951764\n",
      "9           9  0.806773  0.838856   0.806773     0.951693\n"
     ]
    }
   ],
   "source": [
    "test_result = pd.read_csv('skip50_test_result.csv')\n",
    "print(test_result)"
   ]
  },
  {
   "cell_type": "code",
   "execution_count": null,
   "metadata": {},
   "outputs": [],
   "source": []
  }
 ],
 "metadata": {
  "kernelspec": {
   "display_name": "Python 3",
   "language": "python",
   "name": "python3"
  },
  "language_info": {
   "codemirror_mode": {
    "name": "ipython",
    "version": 3
   },
   "file_extension": ".py",
   "mimetype": "text/x-python",
   "name": "python",
   "nbconvert_exporter": "python",
   "pygments_lexer": "ipython3",
   "version": "3.6.6"
  }
 },
 "nbformat": 4,
 "nbformat_minor": 2
}
